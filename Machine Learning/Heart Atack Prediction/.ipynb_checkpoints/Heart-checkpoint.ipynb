{
 "cells": [
  {
   "cell_type": "code",
   "execution_count": 280,
   "metadata": {},
   "outputs": [],
   "source": [
    "import pandas as pd\n",
    "from matplotlib import pyplot as plt\n",
    "import seaborn as ss\n",
    "import numpy as np\n",
    "from sklearn.model_selection import train_test_split\n",
    "from sklearn.linear_model import LogisticRegression\n",
    "from sklearn.tree import DecisionTreeClassifier \n",
    "from sklearn.neighbors import KNeighborsClassifier\n",
    "from sklearn.naive_bayes import GaussianNB\n",
    "from sklearn.svm import SVC\n",
    "from sklearn.ensemble import RandomForestClassifier"
   ]
  },
  {
   "cell_type": "markdown",
   "metadata": {},
   "source": [
    "#  Loding Data"
   ]
  },
  {
   "cell_type": "code",
   "execution_count": 252,
   "metadata": {},
   "outputs": [
    {
     "data": {
      "text/html": [
       "<div>\n",
       "<style scoped>\n",
       "    .dataframe tbody tr th:only-of-type {\n",
       "        vertical-align: middle;\n",
       "    }\n",
       "\n",
       "    .dataframe tbody tr th {\n",
       "        vertical-align: top;\n",
       "    }\n",
       "\n",
       "    .dataframe thead th {\n",
       "        text-align: right;\n",
       "    }\n",
       "</style>\n",
       "<table border=\"1\" class=\"dataframe\">\n",
       "  <thead>\n",
       "    <tr style=\"text-align: right;\">\n",
       "      <th></th>\n",
       "      <th>age</th>\n",
       "      <th>sex</th>\n",
       "      <th>cp</th>\n",
       "      <th>trestbps</th>\n",
       "      <th>chol</th>\n",
       "      <th>fbs</th>\n",
       "      <th>restecg</th>\n",
       "      <th>thalach</th>\n",
       "      <th>exang</th>\n",
       "      <th>oldpeak</th>\n",
       "      <th>slope</th>\n",
       "      <th>ca</th>\n",
       "      <th>thal</th>\n",
       "      <th>target</th>\n",
       "    </tr>\n",
       "  </thead>\n",
       "  <tbody>\n",
       "    <tr>\n",
       "      <th>0</th>\n",
       "      <td>63</td>\n",
       "      <td>1</td>\n",
       "      <td>3</td>\n",
       "      <td>145</td>\n",
       "      <td>233</td>\n",
       "      <td>1</td>\n",
       "      <td>0</td>\n",
       "      <td>150</td>\n",
       "      <td>0</td>\n",
       "      <td>2.3</td>\n",
       "      <td>0</td>\n",
       "      <td>0</td>\n",
       "      <td>1</td>\n",
       "      <td>1</td>\n",
       "    </tr>\n",
       "    <tr>\n",
       "      <th>1</th>\n",
       "      <td>37</td>\n",
       "      <td>1</td>\n",
       "      <td>2</td>\n",
       "      <td>130</td>\n",
       "      <td>250</td>\n",
       "      <td>0</td>\n",
       "      <td>1</td>\n",
       "      <td>187</td>\n",
       "      <td>0</td>\n",
       "      <td>3.5</td>\n",
       "      <td>0</td>\n",
       "      <td>0</td>\n",
       "      <td>2</td>\n",
       "      <td>1</td>\n",
       "    </tr>\n",
       "    <tr>\n",
       "      <th>2</th>\n",
       "      <td>41</td>\n",
       "      <td>0</td>\n",
       "      <td>1</td>\n",
       "      <td>130</td>\n",
       "      <td>204</td>\n",
       "      <td>0</td>\n",
       "      <td>0</td>\n",
       "      <td>172</td>\n",
       "      <td>0</td>\n",
       "      <td>1.4</td>\n",
       "      <td>2</td>\n",
       "      <td>0</td>\n",
       "      <td>2</td>\n",
       "      <td>1</td>\n",
       "    </tr>\n",
       "    <tr>\n",
       "      <th>3</th>\n",
       "      <td>56</td>\n",
       "      <td>1</td>\n",
       "      <td>1</td>\n",
       "      <td>120</td>\n",
       "      <td>236</td>\n",
       "      <td>0</td>\n",
       "      <td>1</td>\n",
       "      <td>178</td>\n",
       "      <td>0</td>\n",
       "      <td>0.8</td>\n",
       "      <td>2</td>\n",
       "      <td>0</td>\n",
       "      <td>2</td>\n",
       "      <td>1</td>\n",
       "    </tr>\n",
       "    <tr>\n",
       "      <th>4</th>\n",
       "      <td>57</td>\n",
       "      <td>0</td>\n",
       "      <td>0</td>\n",
       "      <td>120</td>\n",
       "      <td>354</td>\n",
       "      <td>0</td>\n",
       "      <td>1</td>\n",
       "      <td>163</td>\n",
       "      <td>1</td>\n",
       "      <td>0.6</td>\n",
       "      <td>2</td>\n",
       "      <td>0</td>\n",
       "      <td>2</td>\n",
       "      <td>1</td>\n",
       "    </tr>\n",
       "    <tr>\n",
       "      <th>...</th>\n",
       "      <td>...</td>\n",
       "      <td>...</td>\n",
       "      <td>...</td>\n",
       "      <td>...</td>\n",
       "      <td>...</td>\n",
       "      <td>...</td>\n",
       "      <td>...</td>\n",
       "      <td>...</td>\n",
       "      <td>...</td>\n",
       "      <td>...</td>\n",
       "      <td>...</td>\n",
       "      <td>...</td>\n",
       "      <td>...</td>\n",
       "      <td>...</td>\n",
       "    </tr>\n",
       "    <tr>\n",
       "      <th>95</th>\n",
       "      <td>53</td>\n",
       "      <td>1</td>\n",
       "      <td>0</td>\n",
       "      <td>142</td>\n",
       "      <td>226</td>\n",
       "      <td>0</td>\n",
       "      <td>0</td>\n",
       "      <td>111</td>\n",
       "      <td>1</td>\n",
       "      <td>0.0</td>\n",
       "      <td>2</td>\n",
       "      <td>0</td>\n",
       "      <td>3</td>\n",
       "      <td>1</td>\n",
       "    </tr>\n",
       "    <tr>\n",
       "      <th>96</th>\n",
       "      <td>62</td>\n",
       "      <td>0</td>\n",
       "      <td>0</td>\n",
       "      <td>140</td>\n",
       "      <td>394</td>\n",
       "      <td>0</td>\n",
       "      <td>0</td>\n",
       "      <td>157</td>\n",
       "      <td>0</td>\n",
       "      <td>1.2</td>\n",
       "      <td>1</td>\n",
       "      <td>0</td>\n",
       "      <td>2</td>\n",
       "      <td>1</td>\n",
       "    </tr>\n",
       "    <tr>\n",
       "      <th>97</th>\n",
       "      <td>52</td>\n",
       "      <td>1</td>\n",
       "      <td>0</td>\n",
       "      <td>108</td>\n",
       "      <td>233</td>\n",
       "      <td>1</td>\n",
       "      <td>1</td>\n",
       "      <td>147</td>\n",
       "      <td>0</td>\n",
       "      <td>0.1</td>\n",
       "      <td>2</td>\n",
       "      <td>3</td>\n",
       "      <td>3</td>\n",
       "      <td>1</td>\n",
       "    </tr>\n",
       "    <tr>\n",
       "      <th>98</th>\n",
       "      <td>43</td>\n",
       "      <td>1</td>\n",
       "      <td>2</td>\n",
       "      <td>130</td>\n",
       "      <td>315</td>\n",
       "      <td>0</td>\n",
       "      <td>1</td>\n",
       "      <td>162</td>\n",
       "      <td>0</td>\n",
       "      <td>1.9</td>\n",
       "      <td>2</td>\n",
       "      <td>1</td>\n",
       "      <td>2</td>\n",
       "      <td>1</td>\n",
       "    </tr>\n",
       "    <tr>\n",
       "      <th>99</th>\n",
       "      <td>53</td>\n",
       "      <td>1</td>\n",
       "      <td>2</td>\n",
       "      <td>130</td>\n",
       "      <td>246</td>\n",
       "      <td>1</td>\n",
       "      <td>0</td>\n",
       "      <td>173</td>\n",
       "      <td>0</td>\n",
       "      <td>0.0</td>\n",
       "      <td>2</td>\n",
       "      <td>3</td>\n",
       "      <td>2</td>\n",
       "      <td>1</td>\n",
       "    </tr>\n",
       "  </tbody>\n",
       "</table>\n",
       "<p>100 rows × 14 columns</p>\n",
       "</div>"
      ],
      "text/plain": [
       "    age  sex  cp  trestbps  chol  fbs  restecg  thalach  exang  oldpeak  \\\n",
       "0    63    1   3       145   233    1        0      150      0      2.3   \n",
       "1    37    1   2       130   250    0        1      187      0      3.5   \n",
       "2    41    0   1       130   204    0        0      172      0      1.4   \n",
       "3    56    1   1       120   236    0        1      178      0      0.8   \n",
       "4    57    0   0       120   354    0        1      163      1      0.6   \n",
       "..  ...  ...  ..       ...   ...  ...      ...      ...    ...      ...   \n",
       "95   53    1   0       142   226    0        0      111      1      0.0   \n",
       "96   62    0   0       140   394    0        0      157      0      1.2   \n",
       "97   52    1   0       108   233    1        1      147      0      0.1   \n",
       "98   43    1   2       130   315    0        1      162      0      1.9   \n",
       "99   53    1   2       130   246    1        0      173      0      0.0   \n",
       "\n",
       "    slope  ca  thal  target  \n",
       "0       0   0     1       1  \n",
       "1       0   0     2       1  \n",
       "2       2   0     2       1  \n",
       "3       2   0     2       1  \n",
       "4       2   0     2       1  \n",
       "..    ...  ..   ...     ...  \n",
       "95      2   0     3       1  \n",
       "96      1   0     2       1  \n",
       "97      2   3     3       1  \n",
       "98      2   1     2       1  \n",
       "99      2   3     2       1  \n",
       "\n",
       "[100 rows x 14 columns]"
      ]
     },
     "execution_count": 252,
     "metadata": {},
     "output_type": "execute_result"
    }
   ],
   "source": [
    "heart_atack_data=pd.read_csv(\"heart.csv\")\n",
    "heart_atack_data.head(100)"
   ]
  },
  {
   "cell_type": "markdown",
   "metadata": {},
   "source": [
    "# Data cleaning"
   ]
  },
  {
   "cell_type": "code",
   "execution_count": 50,
   "metadata": {},
   "outputs": [],
   "source": [
    "#data cleaing\n",
    "heart_atack_data.isnull()\n",
    "heart_atack_data.isnull().sum()\n",
    "heart_atack_data.dropna(inplace=True)"
   ]
  },
  {
   "cell_type": "markdown",
   "metadata": {},
   "source": [
    "#  Analiuze the data"
   ]
  },
  {
   "cell_type": "code",
   "execution_count": 81,
   "metadata": {},
   "outputs": [
    {
     "data": {
      "text/plain": [
       "<matplotlib.axes._subplots.AxesSubplot at 0x25c0b785b88>"
      ]
     },
     "execution_count": 81,
     "metadata": {},
     "output_type": "execute_result"
    },
    {
     "data": {
      "image/png": "[encoded data removed]",
      "text/plain": [
       "<Figure size 1440x648 with 1 Axes>"
      ]
     },
     "metadata": {
      "needs_background": "light"
     },
     "output_type": "display_data"
    }
   ],
   "source": [
    "#analyse the data\n",
    "heart_atack_data[\"age\"].plot(kind=\"bar\",figsize=(20,9))  #the age groupn in dataset"
   ]
  },
  {
   "cell_type": "code",
   "execution_count": 82,
   "metadata": {},
   "outputs": [
    {
     "data": {
      "text/plain": [
       "<matplotlib.axes._subplots.AxesSubplot at 0x25c0c18ce48>"
      ]
     },
     "execution_count": 82,
     "metadata": {},
     "output_type": "execute_result"
    },
    {
     "data": {
      "image/png": "[encoded data removed]",
      "text/plain": [
       "<Figure size 432x288 with 1 Axes>"
      ]
     },
     "metadata": {
      "needs_background": "light"
     },
     "output_type": "display_data"
    }
   ],
   "source": [
    "ss.countplot(x=\"target\",hue=\"age\",data=heart_atack_data)   #atack according to the the age 1 is yes 0 is no"
   ]
  },
  {
   "cell_type": "markdown",
   "metadata": {},
   "source": [
    "#     Data Sepration"
   ]
  },
  {
   "cell_type": "code",
   "execution_count": 282,
   "metadata": {},
   "outputs": [],
   "source": [
    "x=heart_atack_data.drop(\"target\",axis=1)\n",
    "y=heart_atack_data[\"target\"]\n",
    "x_train,x_test,y_train,y_test=train_test_split(x,y,test_size=0.1,random_state=2)\n"
   ]
  },
  {
   "cell_type": "markdown",
   "metadata": {},
   "source": [
    "#  Logistic Regression "
   ]
  },
  {
   "cell_type": "code",
   "execution_count": 175,
   "metadata": {},
   "outputs": [
    {
     "name": "stdout",
     "output_type": "stream",
     "text": [
      "0.8419117647058824\n",
      "0.9354838709677419\n"
     ]
    },
    {
     "name": "stderr",
     "output_type": "stream",
     "text": [
      "C:\\Users\\ART\\anaconda3\\lib\\site-packages\\sklearn\\linear_model\\_logistic.py:940: ConvergenceWarning: lbfgs failed to converge (status=1):\n",
      "STOP: TOTAL NO. of ITERATIONS REACHED LIMIT.\n",
      "\n",
      "Increase the number of iterations (max_iter) or scale the data as shown in:\n",
      "    https://scikit-learn.org/stable/modules/preprocessing.html\n",
      "Please also refer to the documentation for alternative solver options:\n",
      "    https://scikit-learn.org/stable/modules/linear_model.html#logistic-regression\n",
      "  extra_warning_msg=_LOGISTIC_SOLVER_CONVERGENCE_MSG)\n"
     ]
    }
   ],
   "source": [
    "linear_Regression=LogisticRegression()\n",
    "linear_Regression.fit(x_train,y_train)\n",
    "linear_Regression_Train_Score=linear_Regression.score(x_train,y_train)\n",
    "linear_Regession_Test_Score=linear_Regression.score(x_test,y_test)\n",
    "print(linear_Regression_Train_Score)\n",
    "print(linear_Regession_Test_Score)\n",
    "linear_regression_prediction=linear_Regression.predict(x_test)\n",
    "linear_Rgression_predicted_Data=pd.DataFrame({\n",
    "    \"Actual Data\":y_test,\n",
    "    \"Predicted_Data\":linear_regression_prediction\n",
    "})\n"
   ]
  },
  {
   "cell_type": "markdown",
   "metadata": {},
   "source": [
    "# DecisionTreeClassifier"
   ]
  },
  {
   "cell_type": "code",
   "execution_count": 174,
   "metadata": {},
   "outputs": [
    {
     "name": "stdout",
     "output_type": "stream",
     "text": [
      "1.0\n",
      "0.9354838709677419\n"
     ]
    }
   ],
   "source": [
    "dession_Tree_Clissifer=DecisionTreeClassifier()\n",
    "dession_Tree_Clissifer.fit(x_train,y_train)\n",
    "dession_Tree_Clissifer_Train_Score=dession_Tree_Clissifer.score(x_train,y_train)\n",
    "dession_Tree_Clissifer_Test_Score=dession_Tree_Clissifer.score(x_test,y_test)\n",
    "print(dession_Tree_Clissifer_Train_Score)\n",
    "print(dession_Tree_Clissifer_Test_Score)\n",
    "dession_Tree_clissifer_Preduction=dession_Tree_Clissifer.predict(x_test)\n",
    "dession_Tree_Clissifer_Predicted_Data=pd.DataFrame({\n",
    "    \"Actual Data\":y_test,\n",
    "    \"Predicted_Data\":dession_Tree_clissifer_Preduction\n",
    "})\n"
   ]
  },
  {
   "cell_type": "markdown",
   "metadata": {},
   "source": [
    "# RandomForestClassifier"
   ]
  },
  {
   "cell_type": "code",
   "execution_count": 267,
   "metadata": {},
   "outputs": [
    {
     "name": "stdout",
     "output_type": "stream",
     "text": [
      "1.0\n",
      "0.9354838709677419\n"
     ]
    }
   ],
   "source": [
    "random_Forest_Classifier=RandomForestClassifier()\n",
    "random_Forest_Classifier.fit(x_train,y_train)\n",
    "random_Forest_Classifier_Train_Score=random_Forest_Classifier.score(x_train,y_train)\n",
    "random_Forest_Classifier_Test_Score=random_Forest_Classifier.score(x_test,y_test)\n",
    "print(random_Forest_Classifier_Train_Score)\n",
    "print(random_Forest_Classifier_Test_Score)\n",
    "random_Forest_Classifier_Preduction=random_Forest_Classifier.predict(x_test)"
   ]
  },
  {
   "cell_type": "markdown",
   "metadata": {},
   "source": [
    "# KNeighborsClassifier"
   ]
  },
  {
   "cell_type": "code",
   "execution_count": 173,
   "metadata": {},
   "outputs": [
    {
     "name": "stdout",
     "output_type": "stream",
     "text": [
      "0.7610294117647058\n",
      "0.6774193548387096\n"
     ]
    }
   ],
   "source": [
    "KN_Neighbors_Clissifer=KNeighborsClassifier()\n",
    "KN_Neighbors_Clissifer.fit(x_train,y_train)\n",
    "KN_Neighbors_Clissifer_Train_Score=KN_Neighbors_Clissifer.score(x_train,y_train)\n",
    "KN_Neighbors_Clissifer_Test_Score=KN_Neighbors_Clissifer.score(x_test,y_test)\n",
    "print(KN_Neighbors_Clissifer_Train_Score)\n",
    "print(KN_Neighbors_Clissifer_Test_Score)\n",
    "KN_Neighbors_Clissifer_Prediction=KN_Neighbors_Clissifer.predict(x_test)\n",
    "KN_Neighbors_Clissifer_Prediction_data=pd.DataFrame({\n",
    "    \"Actual Data\":y_test,\n",
    "    \"Predicted_Data\":KN_Neighbors_Clissifer_Prediction\n",
    "})\n"
   ]
  },
  {
   "cell_type": "markdown",
   "metadata": {},
   "source": [
    "# GaussianNB"
   ]
  },
  {
   "cell_type": "code",
   "execution_count": 171,
   "metadata": {},
   "outputs": [
    {
     "name": "stdout",
     "output_type": "stream",
     "text": [
      "0.8272058823529411\n",
      "0.967741935483871\n"
     ]
    }
   ],
   "source": [
    "gaussianNB=GaussianNB()\n",
    "gaussianNB.fit(x_train,y_train)\n",
    "gaussianNB_Train_Score=gaussianNB.score(x_train,y_train)\n",
    "gaussianNB_Test_Score=gaussianNB.score(x_test,y_test)\n",
    "gaussianNB_Prediction=gaussianNB.predict(x_test)\n",
    "print(gaussianNB_Train_Score)\n",
    "print(gaussianNB_Test_Score)\n",
    "gaussianNB_Preduction_Data=pd.DataFrame({\n",
    "    \"Actaul Data\":y_test,\n",
    "    \"Predicted Data\":gaussianNB_Prediction\n",
    "})\n"
   ]
  },
  {
   "cell_type": "markdown",
   "metadata": {},
   "source": [
    "# SVC"
   ]
  },
  {
   "cell_type": "code",
   "execution_count": 170,
   "metadata": {},
   "outputs": [
    {
     "name": "stdout",
     "output_type": "stream",
     "text": [
      "0.7096774193548387\n",
      "0.7096774193548387\n"
     ]
    }
   ],
   "source": [
    "svc=SVC()\n",
    "svc.fit(x_train,y_train)\n",
    "svc_Train_Score=svc.score(x_train,y_train)\n",
    "svc_Test_Score=svc.score(x_test,y_test)\n",
    "print(svc_Test_Score)\n",
    "print(svc_Test_Score)\n",
    "svc_Prediction=svc.predict(x_test)\n",
    "svc_Prediction_data=pd.DataFrame({\n",
    "    \"Actual data\":y_test,\n",
    "    \"Predicted Data\":svc_Prediction\n",
    "})"
   ]
  },
  {
   "cell_type": "markdown",
   "metadata": {},
   "source": [
    "# Test data Prediction"
   ]
  },
  {
   "cell_type": "code",
   "execution_count": 284,
   "metadata": {},
   "outputs": [
    {
     "name": "stdout",
     "output_type": "stream",
     "text": [
      "{'Actual Data': 99     1\n",
      "296    0\n",
      "89     1\n",
      "30     1\n",
      "234    0\n",
      "      ..\n",
      "173    0\n",
      "94     1\n",
      "161    1\n",
      "216    0\n",
      "91     1\n",
      "Name: target, Length: 61, dtype: int64, 'Predicted_Data': array([0, 1, 1, 1, 1, 1, 1, 1, 1, 0, 1, 0, 0, 1, 1, 1, 1, 0, 1, 0, 1, 1,\n",
      "       1, 1, 1, 0, 1, 1, 1, 1, 1, 0, 1, 1, 1, 1, 1, 1, 1, 0, 1, 1, 1, 1,\n",
      "       0, 0, 1, 0, 1, 1, 0, 1, 1, 1, 1, 1, 1, 0, 0, 0, 1, 1, 1, 1, 1, 1,\n",
      "       1, 0, 0, 1, 0, 0, 0, 0, 0, 1, 1, 1, 1, 0, 1, 0, 1, 1, 0, 1, 0, 0,\n",
      "       1, 1, 1, 0, 1, 1, 0, 1, 1, 1, 0, 1, 1, 0, 1, 1, 1, 1, 0, 1, 0, 0,\n",
      "       0, 1, 0, 0, 1, 1, 1, 1, 1, 0, 0, 1, 1, 0, 1, 0, 1, 0, 0, 1, 1, 0,\n",
      "       1, 1, 1, 1, 1, 1, 0, 0, 1, 1, 1, 1, 0, 1, 1, 1, 0, 1, 0, 0, 0, 0,\n",
      "       1, 1, 1, 1, 0, 0, 1, 0, 0, 0, 0, 1, 0, 0, 1, 0, 0, 1, 0, 1, 1, 1,\n",
      "       1, 1, 1, 1, 1, 0, 1, 1, 0, 1, 1, 1, 1, 0, 1, 0, 0, 1, 1, 1, 1, 1,\n",
      "       0, 0, 1, 1, 0, 0, 1, 1, 0, 0, 1, 1, 0, 0, 1, 1, 1, 0, 1, 1, 0, 1,\n",
      "       1, 1, 0, 0, 1, 0, 0, 1, 1, 0, 1, 1, 0, 0, 0, 1, 0, 1, 1, 1, 1, 0],\n",
      "      dtype=int64)}\n"
     ]
    }
   ],
   "source": [
    "preducted_Data=pd.DataFrame({\n",
    "    \"Actual Data\":y_test,\n",
    "    \"Logisctic Rgression\":linear_regression_prediction,\n",
    "    \n",
    "})\n",
    "\n",
    "print(predicted_data)"
   ]
  },
  {
   "cell_type": "markdown",
   "metadata": {},
   "source": [
    "#  Best Algo selection"
   ]
  },
  {
   "cell_type": "code",
   "execution_count": 274,
   "metadata": {},
   "outputs": [
    {
     "name": "stdout",
     "output_type": "stream",
     "text": [
      "gaussianNB\n",
      "0.967741935483871\n"
     ]
    }
   ],
   "source": [
    "max_score=[linear_Regession_Test_Score,\n",
    "            dession_Tree_Clissifer_Test_Score,\n",
    "            KN_Neighbors_Clissifer_Test_Score,\n",
    "            gaussianNB_Test_Score,svc_Test_Score\n",
    "    ]\n",
    "\n",
    "algorithm_Selection=max(max_score)\n",
    "input_List=[53,1,2 ,130,246,1,0,173, 0 ,0.0,2,3,2]\n",
    "if algorithm_Selection == linear_Regession_Test_Score:\n",
    "    print(\"linear_Regession\")\n",
    "    print(algorithm_Selection)\n",
    "    prediction=linear_Regression.predict([input_List])\n",
    "if algorithm_Selection == dession_Tree_Clissifer_Test_Score:\n",
    "    print(\"dession_Tree\")\n",
    "    print(algorithm_Selection)\n",
    "    prediction=dession_Tree_Clissifer.predict([input_List])\n",
    "if algorithm_Selection == KN_Neighbors_Clissifer_Test_Score:\n",
    "    print(\"KN_Neighbors_Clissifer\")\n",
    "    print(algorithm_Selection)\n",
    "    prediction=dession_Tree_Clissifer.predict([input_List])\n",
    "if algorithm_Selection == gaussianNB_Test_Score:\n",
    "    print(\"gaussianNB\")\n",
    "    print(algorithm_Selection)\n",
    "    prediction=gaussianNB.predict([input_List])\n",
    "if algorithm_Selection==svc_Test_Score:\n",
    "    print(\"svc_Test\")\n",
    "    print(algorithm_Selection)\n",
    "    prediction=gaussianNB.predict([input_List])\n",
    "    "
   ]
  },
  {
   "cell_type": "markdown",
   "metadata": {},
   "source": [
    "# Hart Atack preduction"
   ]
  },
  {
   "cell_type": "code",
   "execution_count": 262,
   "metadata": {},
   "outputs": [
    {
     "name": "stdout",
     "output_type": "stream",
     "text": [
      "[1]\n",
      "prediction is 97.0 %\n"
     ]
    }
   ],
   "source": [
    "print(prediction)\n",
    "print(f\"prediction is {round(algorithm_Selection*100)} %\")"
   ]
  },
  {
   "cell_type": "code",
   "execution_count": null,
   "metadata": {},
   "outputs": [],
   "source": []
  }
 ],
 "metadata": {
  "kernelspec": {
   "display_name": "Python 3",
   "language": "python",
   "name": "python3"
  },
  "language_info": {
   "codemirror_mode": {
    "name": "ipython",
    "version": 3
   },
   "file_extension": ".py",
   "mimetype": "text/x-python",
   "name": "python",
   "nbconvert_exporter": "python",
   "pygments_lexer": "ipython3",
   "version": "3.7.6"
  }
 },
 "nbformat": 4,
 "nbformat_minor": 4
}
