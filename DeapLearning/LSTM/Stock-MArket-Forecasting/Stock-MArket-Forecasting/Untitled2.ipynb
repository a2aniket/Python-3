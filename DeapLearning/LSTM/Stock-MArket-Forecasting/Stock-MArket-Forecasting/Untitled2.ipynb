{
 "cells": [
  {
   "cell_type": "code",
   "execution_count": 1,
   "metadata": {},
   "outputs": [
    {
     "name": "stderr",
     "output_type": "stream",
     "text": [
      "Using TensorFlow backend.\n",
      "C:\\Users\\ART\\Anaconda3\\lib\\site-packages\\tensorflow\\python\\framework\\dtypes.py:526: FutureWarning: Passing (type, 1) or '1type' as a synonym of type is deprecated; in a future version of numpy, it will be understood as (type, (1,)) / '(1,)type'.\n",
      "  _np_qint8 = np.dtype([(\"qint8\", np.int8, 1)])\n",
      "C:\\Users\\ART\\Anaconda3\\lib\\site-packages\\tensorflow\\python\\framework\\dtypes.py:527: FutureWarning: Passing (type, 1) or '1type' as a synonym of type is deprecated; in a future version of numpy, it will be understood as (type, (1,)) / '(1,)type'.\n",
      "  _np_quint8 = np.dtype([(\"quint8\", np.uint8, 1)])\n",
      "C:\\Users\\ART\\Anaconda3\\lib\\site-packages\\tensorflow\\python\\framework\\dtypes.py:528: FutureWarning: Passing (type, 1) or '1type' as a synonym of type is deprecated; in a future version of numpy, it will be understood as (type, (1,)) / '(1,)type'.\n",
      "  _np_qint16 = np.dtype([(\"qint16\", np.int16, 1)])\n",
      "C:\\Users\\ART\\Anaconda3\\lib\\site-packages\\tensorflow\\python\\framework\\dtypes.py:529: FutureWarning: Passing (type, 1) or '1type' as a synonym of type is deprecated; in a future version of numpy, it will be understood as (type, (1,)) / '(1,)type'.\n",
      "  _np_quint16 = np.dtype([(\"quint16\", np.uint16, 1)])\n",
      "C:\\Users\\ART\\Anaconda3\\lib\\site-packages\\tensorflow\\python\\framework\\dtypes.py:530: FutureWarning: Passing (type, 1) or '1type' as a synonym of type is deprecated; in a future version of numpy, it will be understood as (type, (1,)) / '(1,)type'.\n",
      "  _np_qint32 = np.dtype([(\"qint32\", np.int32, 1)])\n",
      "C:\\Users\\ART\\Anaconda3\\lib\\site-packages\\tensorflow\\python\\framework\\dtypes.py:535: FutureWarning: Passing (type, 1) or '1type' as a synonym of type is deprecated; in a future version of numpy, it will be understood as (type, (1,)) / '(1,)type'.\n",
      "  np_resource = np.dtype([(\"resource\", np.ubyte, 1)])\n"
     ]
    }
   ],
   "source": [
    "import pandas as pd\n",
    "from matplotlib import pyplot as plt\n",
    "import numpy as np\n",
    "from sklearn.preprocessing import MinMaxScaler\n",
    "from keras.models import Sequential\n",
    "from keras.layers import LSTM\n",
    "from keras.layers import Dense"
   ]
  },
  {
   "cell_type": "code",
   "execution_count": 2,
   "metadata": {},
   "outputs": [
    {
     "data": {
      "text/html": [
       "<div>\n",
       "<style scoped>\n",
       "    .dataframe tbody tr th:only-of-type {\n",
       "        vertical-align: middle;\n",
       "    }\n",
       "\n",
       "    .dataframe tbody tr th {\n",
       "        vertical-align: top;\n",
       "    }\n",
       "\n",
       "    .dataframe thead th {\n",
       "        text-align: right;\n",
       "    }\n",
       "</style>\n",
       "<table border=\"1\" class=\"dataframe\">\n",
       "  <thead>\n",
       "    <tr style=\"text-align: right;\">\n",
       "      <th></th>\n",
       "      <th>Date</th>\n",
       "      <th>Open</th>\n",
       "      <th>High</th>\n",
       "      <th>Low</th>\n",
       "      <th>Close</th>\n",
       "      <th>Adj Close</th>\n",
       "      <th>Volume</th>\n",
       "    </tr>\n",
       "  </thead>\n",
       "  <tbody>\n",
       "    <tr>\n",
       "      <th>0</th>\n",
       "      <td>2019-06-21</td>\n",
       "      <td>198.800003</td>\n",
       "      <td>200.850006</td>\n",
       "      <td>198.149994</td>\n",
       "      <td>198.779999</td>\n",
       "      <td>196.435623</td>\n",
       "      <td>47800600</td>\n",
       "    </tr>\n",
       "    <tr>\n",
       "      <th>1</th>\n",
       "      <td>2019-06-24</td>\n",
       "      <td>198.539993</td>\n",
       "      <td>200.160004</td>\n",
       "      <td>198.169998</td>\n",
       "      <td>198.580002</td>\n",
       "      <td>196.237991</td>\n",
       "      <td>18220400</td>\n",
       "    </tr>\n",
       "    <tr>\n",
       "      <th>2</th>\n",
       "      <td>2019-06-25</td>\n",
       "      <td>198.429993</td>\n",
       "      <td>199.259995</td>\n",
       "      <td>195.289993</td>\n",
       "      <td>195.570007</td>\n",
       "      <td>193.263504</td>\n",
       "      <td>21070300</td>\n",
       "    </tr>\n",
       "    <tr>\n",
       "      <th>3</th>\n",
       "      <td>2019-06-26</td>\n",
       "      <td>197.770004</td>\n",
       "      <td>200.990005</td>\n",
       "      <td>197.350006</td>\n",
       "      <td>199.800003</td>\n",
       "      <td>197.443619</td>\n",
       "      <td>26067500</td>\n",
       "    </tr>\n",
       "    <tr>\n",
       "      <th>4</th>\n",
       "      <td>2019-06-27</td>\n",
       "      <td>200.289993</td>\n",
       "      <td>201.570007</td>\n",
       "      <td>199.570007</td>\n",
       "      <td>199.740005</td>\n",
       "      <td>197.384323</td>\n",
       "      <td>20899700</td>\n",
       "    </tr>\n",
       "  </tbody>\n",
       "</table>\n",
       "</div>"
      ],
      "text/plain": [
       "         Date        Open        High         Low       Close   Adj Close  \\\n",
       "0  2019-06-21  198.800003  200.850006  198.149994  198.779999  196.435623   \n",
       "1  2019-06-24  198.539993  200.160004  198.169998  198.580002  196.237991   \n",
       "2  2019-06-25  198.429993  199.259995  195.289993  195.570007  193.263504   \n",
       "3  2019-06-26  197.770004  200.990005  197.350006  199.800003  197.443619   \n",
       "4  2019-06-27  200.289993  201.570007  199.570007  199.740005  197.384323   \n",
       "\n",
       "     Volume  \n",
       "0  47800600  \n",
       "1  18220400  \n",
       "2  21070300  \n",
       "3  26067500  \n",
       "4  20899700  "
      ]
     },
     "execution_count": 2,
     "metadata": {},
     "output_type": "execute_result"
    }
   ],
   "source": [
    "data=pd.read_csv('AAPL.csv')\n",
    "data.head()"
   ]
  },
  {
   "cell_type": "code",
   "execution_count": 3,
   "metadata": {},
   "outputs": [
    {
     "data": {
      "text/plain": [
       "dtype('float64')"
      ]
     },
     "execution_count": 3,
     "metadata": {},
     "output_type": "execute_result"
    }
   ],
   "source": [
    "data[\"Open\"].dtype"
   ]
  },
  {
   "cell_type": "code",
   "execution_count": 4,
   "metadata": {},
   "outputs": [
    {
     "data": {
      "text/plain": [
       "(252, 7)"
      ]
     },
     "execution_count": 4,
     "metadata": {},
     "output_type": "execute_result"
    }
   ],
   "source": [
    "data.shape"
   ]
  },
  {
   "cell_type": "code",
   "execution_count": 5,
   "metadata": {},
   "outputs": [
    {
     "data": {
      "text/plain": [
       "[<matplotlib.lines.Line2D at 0x283392f3e48>]"
      ]
     },
     "execution_count": 5,
     "metadata": {},
     "output_type": "execute_result"
    },
    {
     "data": {
      "image/png": "[encoded data removed]",
      "text/plain": [
       "<Figure size 432x288 with 1 Axes>"
      ]
     },
     "metadata": {
      "needs_background": "light"
     },
     "output_type": "display_data"
    }
   ],
   "source": [
    "plt.plot(data[\"Open\"])"
   ]
  },
  {
   "cell_type": "code",
   "execution_count": 12,
   "metadata": {},
   "outputs": [],
   "source": [
    "stock_data=data.reset_index()[\"Open\"]\n",
    "train_size=(int(len(stock_data)*0.7))\n",
    "test_size=(len(stock_data)-train_data)"
   ]
  },
  {
   "cell_type": "code",
   "execution_count": 10,
   "metadata": {},
   "outputs": [],
   "source": [
    "open_feature=np.array(data[\"Open\"]).reshape(-1,1)"
   ]
  },
  {
   "cell_type": "code",
   "execution_count": 11,
   "metadata": {},
   "outputs": [],
   "source": [
    "train_data=open_feature[:train_size]\n",
    "test_data=open_feature[train_size:]"
   ]
  },
  {
   "cell_type": "code",
   "execution_count": 13,
   "metadata": {},
   "outputs": [
    {
     "data": {
      "image/png": "[encoded data removed]",
      "text/plain": [
       "<Figure size 432x288 with 1 Axes>"
      ]
     },
     "metadata": {
      "needs_background": "light"
     },
     "output_type": "display_data"
    }
   ],
   "source": [
    "train_plot=np.empty_like(open_feature)\n",
    "train_plot[:,:]=np.nan\n",
    "train_plot[:train_size,:]=train_data\n",
    "test_plot=np.empty_like(open_feature)\n",
    "test_plot[:,:]=np.nan\n",
    "test_plot[train_size:,:]=test_data\n",
    "plt.plot(train_plot)\n",
    "plt.plot(test_plot)\n",
    "plt.show()"
   ]
  },
  {
   "cell_type": "code",
   "execution_count": 14,
   "metadata": {},
   "outputs": [],
   "source": [
    "scaler=MinMaxScaler()\n",
    "train_data=scaler.fit_transform(train_data)\n",
    "test_data=scaler.fit_transform(test_data)"
   ]
  },
  {
   "cell_type": "code",
   "execution_count": 15,
   "metadata": {},
   "outputs": [],
   "source": [
    "def train_test_splict(data,time_stamp):\n",
    "    x_data,y_data=[],[]\n",
    "    for i in range(len(data)-time_stamp-1):\n",
    "        x_data.append(train_data[i:i+time_stamp,0])\n",
    "        y_data.append(train_data[i+time_stamp])\n",
    "    return np.array(x_data),np.array(y_data)\n",
    "\n",
    "x_test,y_test=train_test_splict(test_data,time_stamp=30)\n",
    "x_train,y_train=train_test_splict(train_data,time_stamp=30)"
   ]
  },
  {
   "cell_type": "code",
   "execution_count": 16,
   "metadata": {},
   "outputs": [
    {
     "name": "stdout",
     "output_type": "stream",
     "text": [
      "WARNING:tensorflow:From C:\\Users\\ART\\Anaconda3\\lib\\site-packages\\tensorflow\\python\\ops\\resource_variable_ops.py:435: colocate_with (from tensorflow.python.framework.ops) is deprecated and will be removed in a future version.\n",
      "Instructions for updating:\n",
      "Colocations handled automatically by placer.\n"
     ]
    }
   ],
   "source": [
    "model=Sequential()\n",
    "model.add(LSTM(112,return_sequences=True,input_shape=(30,1)))\n",
    "model.add(LSTM(109,return_sequences=True))\n",
    "model.add(LSTM(109))\n",
    "model.add(Dense(1))\n",
    "model.compile(loss='mean_squared_error',optimizer='adam')"
   ]
  },
  {
   "cell_type": "code",
   "execution_count": 17,
   "metadata": {},
   "outputs": [],
   "source": [
    "x_train =x_train.reshape(x_train.shape[0],x_train.shape[1] , 1)\n",
    "x_test =x_test.reshape(x_test.shape[0],x_test.shape[1] , 1)"
   ]
  },
  {
   "cell_type": "code",
   "execution_count": 18,
   "metadata": {},
   "outputs": [
    {
     "name": "stdout",
     "output_type": "stream",
     "text": [
      "WARNING:tensorflow:From C:\\Users\\ART\\Anaconda3\\lib\\site-packages\\tensorflow\\python\\ops\\math_ops.py:3066: to_int32 (from tensorflow.python.ops.math_ops) is deprecated and will be removed in a future version.\n",
      "Instructions for updating:\n",
      "Use tf.cast instead.\n",
      "Train on 145 samples, validate on 45 samples\n",
      "Epoch 1/100\n",
      "145/145 [==============================] - 2s 14ms/step - loss: 0.1560 - val_loss: 0.0408\n",
      "Epoch 2/100\n",
      "145/145 [==============================] - 1s 4ms/step - loss: 0.0566 - val_loss: 0.0029\n",
      "Epoch 3/100\n",
      "145/145 [==============================] - 1s 4ms/step - loss: 0.0462 - val_loss: 0.0039\n",
      "Epoch 4/100\n",
      "145/145 [==============================] - 1s 4ms/step - loss: 0.0171 - val_loss: 0.0206\n",
      "Epoch 5/100\n",
      "145/145 [==============================] - 1s 4ms/step - loss: 0.0193 - val_loss: 0.0158\n",
      "Epoch 6/100\n",
      "145/145 [==============================] - 1s 4ms/step - loss: 0.0094 - val_loss: 0.0056\n",
      "Epoch 7/100\n",
      "145/145 [==============================] - 1s 4ms/step - loss: 0.0127 - val_loss: 0.0047\n",
      "Epoch 8/100\n",
      "145/145 [==============================] - 1s 4ms/step - loss: 0.0085 - val_loss: 0.0063\n",
      "Epoch 9/100\n",
      "145/145 [==============================] - 1s 4ms/step - loss: 0.0084 - val_loss: 0.0039\n",
      "Epoch 10/100\n",
      "145/145 [==============================] - 1s 4ms/step - loss: 0.0071 - val_loss: 0.0023\n",
      "Epoch 11/100\n",
      "145/145 [==============================] - 1s 4ms/step - loss: 0.0076 - val_loss: 0.0022\n",
      "Epoch 12/100\n",
      "145/145 [==============================] - 1s 4ms/step - loss: 0.0067 - val_loss: 0.0023\n",
      "Epoch 13/100\n",
      "145/145 [==============================] - 1s 4ms/step - loss: 0.0070 - val_loss: 0.0023\n",
      "Epoch 14/100\n",
      "145/145 [==============================] - 1s 4ms/step - loss: 0.0065 - val_loss: 0.0021\n",
      "Epoch 15/100\n",
      "145/145 [==============================] - 1s 4ms/step - loss: 0.0068 - val_loss: 0.0025\n",
      "Epoch 16/100\n",
      "145/145 [==============================] - 1s 4ms/step - loss: 0.0064 - val_loss: 0.0029\n",
      "Epoch 17/100\n",
      "145/145 [==============================] - 1s 4ms/step - loss: 0.0064 - val_loss: 0.0024\n",
      "Epoch 18/100\n",
      "145/145 [==============================] - 1s 4ms/step - loss: 0.0067 - val_loss: 0.0022\n",
      "Epoch 19/100\n",
      "145/145 [==============================] - 1s 4ms/step - loss: 0.0060 - val_loss: 0.0026\n",
      "Epoch 20/100\n",
      "145/145 [==============================] - 1s 4ms/step - loss: 0.0071 - val_loss: 0.0024\n",
      "Epoch 21/100\n",
      "145/145 [==============================] - 1s 4ms/step - loss: 0.0063 - val_loss: 0.0020\n",
      "Epoch 22/100\n",
      "145/145 [==============================] - 1s 4ms/step - loss: 0.0068 - val_loss: 0.0022\n",
      "Epoch 23/100\n",
      "145/145 [==============================] - 1s 4ms/step - loss: 0.0060 - val_loss: 0.0022\n",
      "Epoch 24/100\n",
      "145/145 [==============================] - 1s 4ms/step - loss: 0.0058 - val_loss: 0.0021\n",
      "Epoch 25/100\n",
      "145/145 [==============================] - 1s 4ms/step - loss: 0.0058 - val_loss: 0.0020\n",
      "Epoch 26/100\n",
      "145/145 [==============================] - 1s 4ms/step - loss: 0.0057 - val_loss: 0.0021\n",
      "Epoch 27/100\n",
      "145/145 [==============================] - 1s 4ms/step - loss: 0.0059 - val_loss: 0.0021\n",
      "Epoch 28/100\n",
      "145/145 [==============================] - 1s 4ms/step - loss: 0.0058 - val_loss: 0.0020\n",
      "Epoch 29/100\n",
      "145/145 [==============================] - 1s 4ms/step - loss: 0.0063 - val_loss: 0.0021\n",
      "Epoch 30/100\n",
      "145/145 [==============================] - 1s 4ms/step - loss: 0.0057 - val_loss: 0.0020\n",
      "Epoch 31/100\n",
      "145/145 [==============================] - 1s 4ms/step - loss: 0.0057 - val_loss: 0.0022\n",
      "Epoch 32/100\n",
      "145/145 [==============================] - 1s 4ms/step - loss: 0.0062 - val_loss: 0.0021\n",
      "Epoch 33/100\n",
      "145/145 [==============================] - 1s 4ms/step - loss: 0.0058 - val_loss: 0.0020\n",
      "Epoch 34/100\n",
      "145/145 [==============================] - 1s 4ms/step - loss: 0.0056 - val_loss: 0.0022\n",
      "Epoch 35/100\n",
      "145/145 [==============================] - 1s 4ms/step - loss: 0.0060 - val_loss: 0.0020\n",
      "Epoch 36/100\n",
      "145/145 [==============================] - 1s 4ms/step - loss: 0.0052 - val_loss: 0.0021\n",
      "Epoch 37/100\n",
      "145/145 [==============================] - 1s 4ms/step - loss: 0.0058 - val_loss: 0.0021\n",
      "Epoch 38/100\n",
      "145/145 [==============================] - 1s 4ms/step - loss: 0.0054 - val_loss: 0.0022\n",
      "Epoch 39/100\n",
      "145/145 [==============================] - 1s 4ms/step - loss: 0.0055 - val_loss: 0.0021\n",
      "Epoch 40/100\n",
      "145/145 [==============================] - 1s 4ms/step - loss: 0.0051 - val_loss: 0.0022\n",
      "Epoch 41/100\n",
      "145/145 [==============================] - 1s 4ms/step - loss: 0.0055 - val_loss: 0.0021\n",
      "Epoch 42/100\n",
      "145/145 [==============================] - 1s 4ms/step - loss: 0.0051 - val_loss: 0.0021\n",
      "Epoch 43/100\n",
      "145/145 [==============================] - 1s 4ms/step - loss: 0.0051 - val_loss: 0.0021\n",
      "Epoch 44/100\n",
      "145/145 [==============================] - 1s 4ms/step - loss: 0.0050 - val_loss: 0.0021\n",
      "Epoch 45/100\n",
      "145/145 [==============================] - 1s 4ms/step - loss: 0.0049 - val_loss: 0.0021\n",
      "Epoch 46/100\n",
      "145/145 [==============================] - 1s 4ms/step - loss: 0.0049 - val_loss: 0.0021\n",
      "Epoch 47/100\n",
      "145/145 [==============================] - 1s 4ms/step - loss: 0.0049 - val_loss: 0.0021\n",
      "Epoch 48/100\n",
      "145/145 [==============================] - 1s 4ms/step - loss: 0.0048 - val_loss: 0.0022\n",
      "Epoch 49/100\n",
      "145/145 [==============================] - 1s 4ms/step - loss: 0.0049 - val_loss: 0.0022\n",
      "Epoch 50/100\n",
      "145/145 [==============================] - 1s 4ms/step - loss: 0.0046 - val_loss: 0.0024\n",
      "Epoch 51/100\n",
      "145/145 [==============================] - 1s 4ms/step - loss: 0.0058 - val_loss: 0.0023\n",
      "Epoch 52/100\n",
      "145/145 [==============================] - 1s 4ms/step - loss: 0.0049 - val_loss: 0.0022\n",
      "Epoch 53/100\n",
      "145/145 [==============================] - 1s 4ms/step - loss: 0.0055 - val_loss: 0.0023\n",
      "Epoch 54/100\n",
      "145/145 [==============================] - 1s 4ms/step - loss: 0.0057 - val_loss: 0.0023\n",
      "Epoch 55/100\n",
      "145/145 [==============================] - 1s 4ms/step - loss: 0.0051 - val_loss: 0.0022\n",
      "Epoch 56/100\n",
      "145/145 [==============================] - 1s 4ms/step - loss: 0.0052 - val_loss: 0.0022\n",
      "Epoch 57/100\n",
      "145/145 [==============================] - 1s 4ms/step - loss: 0.0049 - val_loss: 0.0022\n",
      "Epoch 58/100\n",
      "145/145 [==============================] - 1s 4ms/step - loss: 0.0050 - val_loss: 0.0022\n",
      "Epoch 59/100\n",
      "145/145 [==============================] - 1s 4ms/step - loss: 0.0047 - val_loss: 0.0021\n",
      "Epoch 60/100\n",
      "145/145 [==============================] - 1s 4ms/step - loss: 0.0052 - val_loss: 0.0022\n",
      "Epoch 61/100\n",
      "145/145 [==============================] - 1s 4ms/step - loss: 0.0043 - val_loss: 0.0022\n",
      "Epoch 62/100\n",
      "145/145 [==============================] - 1s 4ms/step - loss: 0.0042 - val_loss: 0.0022\n",
      "Epoch 63/100\n",
      "145/145 [==============================] - 1s 4ms/step - loss: 0.0044 - val_loss: 0.0022\n",
      "Epoch 64/100\n",
      "145/145 [==============================] - 1s 4ms/step - loss: 0.0043 - val_loss: 0.0023\n",
      "Epoch 65/100\n",
      "145/145 [==============================] - 1s 4ms/step - loss: 0.0058 - val_loss: 0.0023\n",
      "Epoch 66/100\n",
      "145/145 [==============================] - 1s 4ms/step - loss: 0.0067 - val_loss: 0.0022\n",
      "Epoch 67/100\n",
      "145/145 [==============================] - 1s 4ms/step - loss: 0.0063 - val_loss: 0.0022\n",
      "Epoch 68/100\n",
      "145/145 [==============================] - 1s 4ms/step - loss: 0.0048 - val_loss: 0.0021\n",
      "Epoch 69/100\n",
      "145/145 [==============================] - 1s 4ms/step - loss: 0.0043 - val_loss: 0.0021\n",
      "Epoch 70/100\n",
      "145/145 [==============================] - 1s 4ms/step - loss: 0.0043 - val_loss: 0.0021\n",
      "Epoch 71/100\n",
      "145/145 [==============================] - 1s 4ms/step - loss: 0.0040 - val_loss: 0.0021\n",
      "Epoch 72/100\n",
      "145/145 [==============================] - 1s 4ms/step - loss: 0.0039 - val_loss: 0.0021\n",
      "Epoch 73/100\n",
      "145/145 [==============================] - 1s 4ms/step - loss: 0.0041 - val_loss: 0.0022\n",
      "Epoch 74/100\n",
      "145/145 [==============================] - 1s 4ms/step - loss: 0.0039 - val_loss: 0.0022\n",
      "Epoch 75/100\n",
      "145/145 [==============================] - 1s 4ms/step - loss: 0.0037 - val_loss: 0.0023\n",
      "Epoch 76/100\n",
      "145/145 [==============================] - 1s 4ms/step - loss: 0.0037 - val_loss: 0.0021\n",
      "Epoch 77/100\n",
      "145/145 [==============================] - 1s 4ms/step - loss: 0.0036 - val_loss: 0.0022\n",
      "Epoch 78/100\n"
     ]
    },
    {
     "name": "stdout",
     "output_type": "stream",
     "text": [
      "145/145 [==============================] - 1s 4ms/step - loss: 0.0035 - val_loss: 0.0021\n",
      "Epoch 79/100\n",
      "145/145 [==============================] - 1s 4ms/step - loss: 0.0034 - val_loss: 0.0021\n",
      "Epoch 80/100\n",
      "145/145 [==============================] - 1s 4ms/step - loss: 0.0033 - val_loss: 0.0021\n",
      "Epoch 81/100\n",
      "145/145 [==============================] - 1s 4ms/step - loss: 0.0032 - val_loss: 0.0021\n",
      "Epoch 82/100\n",
      "145/145 [==============================] - 1s 4ms/step - loss: 0.0043 - val_loss: 0.0022\n",
      "Epoch 83/100\n",
      "145/145 [==============================] - 1s 4ms/step - loss: 0.0036 - val_loss: 0.0022\n",
      "Epoch 84/100\n",
      "145/145 [==============================] - 1s 4ms/step - loss: 0.0045 - val_loss: 0.0021\n",
      "Epoch 85/100\n",
      "145/145 [==============================] - 1s 4ms/step - loss: 0.0046 - val_loss: 0.0022\n",
      "Epoch 86/100\n",
      "145/145 [==============================] - 1s 4ms/step - loss: 0.0037 - val_loss: 0.0021\n",
      "Epoch 87/100\n",
      "145/145 [==============================] - 1s 4ms/step - loss: 0.0042 - val_loss: 0.0025\n",
      "Epoch 88/100\n",
      "145/145 [==============================] - 1s 4ms/step - loss: 0.0034 - val_loss: 0.0021\n",
      "Epoch 89/100\n",
      "145/145 [==============================] - 1s 4ms/step - loss: 0.0031 - val_loss: 0.0021\n",
      "Epoch 90/100\n",
      "145/145 [==============================] - 1s 4ms/step - loss: 0.0035 - val_loss: 0.0021\n",
      "Epoch 91/100\n",
      "145/145 [==============================] - 1s 4ms/step - loss: 0.0042 - val_loss: 0.0021\n",
      "Epoch 92/100\n",
      "145/145 [==============================] - 1s 4ms/step - loss: 0.0038 - val_loss: 0.0020\n",
      "Epoch 93/100\n",
      "145/145 [==============================] - 1s 4ms/step - loss: 0.0034 - val_loss: 0.0020\n",
      "Epoch 94/100\n",
      "145/145 [==============================] - 1s 4ms/step - loss: 0.0032 - val_loss: 0.0020\n",
      "Epoch 95/100\n",
      "145/145 [==============================] - 1s 4ms/step - loss: 0.0032 - val_loss: 0.0023\n",
      "Epoch 96/100\n",
      "145/145 [==============================] - 1s 5ms/step - loss: 0.0031 - val_loss: 0.0023\n",
      "Epoch 97/100\n",
      "145/145 [==============================] - 1s 4ms/step - loss: 0.0033 - val_loss: 0.0021\n",
      "Epoch 98/100\n",
      "145/145 [==============================] - 1s 4ms/step - loss: 0.0040 - val_loss: 0.0023\n",
      "Epoch 99/100\n",
      "145/145 [==============================] - 1s 4ms/step - loss: 0.0072 - val_loss: 0.0021\n",
      "Epoch 100/100\n",
      "145/145 [==============================] - 1s 4ms/step - loss: 0.0054 - val_loss: 0.0023\n"
     ]
    },
    {
     "data": {
      "text/plain": [
       "<keras.callbacks.callbacks.History at 0x2833cbb8cc8>"
      ]
     },
     "execution_count": 18,
     "metadata": {},
     "output_type": "execute_result"
    }
   ],
   "source": [
    "model.fit(x_train,y_train,validation_data=(x_test,y_test),\n",
    "          epochs=100,verbose=1,batch_size=40)"
   ]
  },
  {
   "cell_type": "code",
   "execution_count": 21,
   "metadata": {},
   "outputs": [],
   "source": [
    "train_predict=model.predict(x_train)\n",
    "test_predict=model.predict(x_test)"
   ]
  },
  {
   "cell_type": "code",
   "execution_count": 22,
   "metadata": {},
   "outputs": [
    {
     "data": {
      "image/png": "[encoded data removed]",
      "text/plain": [
       "<Figure size 432x288 with 1 Axes>"
      ]
     },
     "metadata": {
      "needs_background": "light"
     },
     "output_type": "display_data"
    }
   ],
   "source": [
    "time_stamp=30\n",
    "train_plot=np.empty_like(open_feature)\n",
    "train_plot[:,:]=np.nan\n",
    "train_plot[time_stamp:len(train_predict)+time_stamp,:]=train_predict\n",
    "test_plot=np.empty_like(open_feature)\n",
    "test_plot[:,:]=np.nan\n",
    "test_plot[len(train_predict)+(time_stamp*2)+1:len(open_feature)-1,:]=test_predict\n",
    "plt.plot(open_feature,c=\"b\")\n",
    "plt.plot(scaler.inverse_transform(train_plot),c=\"r\")\n",
    "plt.plot(scaler.inverse_transform(test_plot),c=\"g\")\n",
    "plt.show()"
   ]
  },
  {
   "cell_type": "code",
   "execution_count": 42,
   "metadata": {},
   "outputs": [
    {
     "data": {
      "text/plain": [
       "(1, 30)"
      ]
     },
     "execution_count": 42,
     "metadata": {},
     "output_type": "execute_result"
    }
   ],
   "source": [
    "temp_open_feature=scaler.fit_transform(open_feature)\n",
    "temp_data=temp_open_feature[222:,:].reshape(1,-1)\n",
    "temp_data.shape"
   ]
  },
  {
   "cell_type": "code",
   "execution_count": 43,
   "metadata": {},
   "outputs": [
    {
     "name": "stdout",
     "output_type": "stream",
     "text": [
      "[array([0.69005896, 0.70545893, 0.76637029, 0.73081255, 0.68298493,\n",
      "       0.65694259, 0.73719805, 0.74884188, 0.75917113, 0.77156634,\n",
      "       0.75347435, 0.80186556, 0.75579078, 0.75973452, 0.77525982,\n",
      "       0.76586956, 0.78465008, 0.80912738, 0.8074372 , 0.80092657,\n",
      "       0.84412173, 0.85595355, 0.95461374, 0.96344061, 0.93470644,\n",
      "       0.86290225, 0.97689994, 1.        , 0.97658701, 0.99680744])]\n",
      "[0.690058957684923, 0.7054589273481238, 0.7663702933748777, 0.7308125535753445, 0.6829849306989442, 0.6569425852599591, 0.7371980491547545, 0.7488418836134898, 0.7591711317873504, 0.7715663435311346, 0.7534743491595313, 0.8018655566461474, 0.7557907759979201, 0.7597345223321976, 0.7752598206623151, 0.7658695609033155, 0.7846500804213148, 0.809127382567133, 0.8074372046724181, 0.8009265682312863, 0.8441217255616456, 0.8559535467605828, 0.9546137444981684, 0.963440613712321, 0.9347064376303014, 0.8629022450796449, 0.9768999422123417, 1.0000000000000002, 0.9765870149359597, 0.9968074431455769]\n"
     ]
    }
   ],
   "source": [
    "temp_input=list(temp_data)\n",
    "print(temp_input)\n",
    "temp_input=temp_input[0].tolist()\n",
    "print(temp_input)"
   ]
  },
  {
   "cell_type": "code",
   "execution_count": 44,
   "metadata": {},
   "outputs": [
    {
     "name": "stdout",
     "output_type": "stream",
     "text": [
      "exe\n"
     ]
    }
   ],
   "source": [
    "i=0\n",
    "output=[]\n",
    "while i<30:\n",
    "    if len(temp_input)>time_stamp:\n",
    "        x_input=np.array(temp_input[1:])\n",
    "        x_input=x_input.reshape(1,-1)\n",
    "        x_input=x_input.reshape(1,time_stamp,1)\n",
    "        y_predict=model.predict(x_input)\n",
    "        temp_input.extend(y_predict[0].tolist())\n",
    "        temp_input=temp_input[1:]\n",
    "        output.extend(y_predict[0].tolist())\n",
    "        i+=1\n",
    "    else:\n",
    "        print(\"exe\")\n",
    "        temp_data=temp_data.reshape(1,time_stamp,1)\n",
    "        y_predict=model.predict(temp_data)\n",
    "        temp_input.extend(y_predict[0].tolist())\n",
    "        output.extend(y_predict[0].tolist())\n",
    "        i+=1 "
   ]
  },
  {
   "cell_type": "code",
   "execution_count": null,
   "metadata": {},
   "outputs": [],
   "source": [
    "\n"
   ]
  },
  {
   "cell_type": "code",
   "execution_count": 109,
   "metadata": {},
   "outputs": [
    {
     "data": {
      "text/plain": [
       "[<matplotlib.lines.Line2D at 0x28342308cc8>]"
      ]
     },
     "execution_count": 109,
     "metadata": {},
     "output_type": "execute_result"
    },
    {
     "data": {
      "image/png": "[encoded data removed]",
      "text/plain": [
       "<Figure size 432x288 with 1 Axes>"
      ]
     },
     "metadata": {
      "needs_background": "light"
     },
     "output_type": "display_data"
    }
   ],
   "source": [
    "plt.plot(open_feature)\n"
   ]
  },
  {
   "cell_type": "code",
   "execution_count": 125,
   "metadata": {},
   "outputs": [
    {
     "data": {
      "text/plain": [
       "[<matplotlib.lines.Line2D at 0x2833ccbea88>]"
      ]
     },
     "execution_count": 125,
     "metadata": {},
     "output_type": "execute_result"
    },
    {
     "data": {
      "image/png": "[encoded data removed]",
      "text/plain": [
       "<Figure size 432x288 with 1 Axes>"
      ]
     },
     "metadata": {
      "needs_background": "light"
     },
     "output_type": "display_data"
    }
   ],
   "source": [
    "output_plot=open_feature.tolist()\n",
    "output_plot.extend(scaler.inverse_transform(output))\n",
    "plt.plot(output_plot,c=\"r\")\n",
    "plt.plot(open_feature,c=\"g\")"
   ]
  },
  {
   "cell_type": "code",
   "execution_count": 114,
   "metadata": {},
   "outputs": [],
   "source": []
  },
  {
   "cell_type": "code",
   "execution_count": 115,
   "metadata": {},
   "outputs": [
    {
     "data": {
      "text/plain": [
       "(252, 1)"
      ]
     },
     "execution_count": 115,
     "metadata": {},
     "output_type": "execute_result"
    }
   ],
   "source": []
  },
  {
   "cell_type": "code",
   "execution_count": null,
   "metadata": {},
   "outputs": [],
   "source": []
  },
  {
   "cell_type": "code",
   "execution_count": null,
   "metadata": {},
   "outputs": [],
   "source": []
  },
  {
   "cell_type": "code",
   "execution_count": null,
   "metadata": {},
   "outputs": [],
   "source": []
  },
  {
   "cell_type": "code",
   "execution_count": null,
   "metadata": {},
   "outputs": [],
   "source": []
  }
 ],
 "metadata": {
  "kernelspec": {
   "display_name": "Python 3",
   "language": "python",
   "name": "python3"
  },
  "language_info": {
   "codemirror_mode": {
    "name": "ipython",
    "version": 3
   },
   "file_extension": ".py",
   "mimetype": "text/x-python",
   "name": "python",
   "nbconvert_exporter": "python",
   "pygments_lexer": "ipython3",
   "version": "3.7.6"
  }
 },
 "nbformat": 4,
 "nbformat_minor": 4
}
